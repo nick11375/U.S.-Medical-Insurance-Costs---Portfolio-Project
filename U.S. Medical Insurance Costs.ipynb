{
 "cells": [
  {
   "cell_type": "markdown",
   "metadata": {},
   "source": [
    "# U.S. Medical Insurance Costs"
   ]
  },
  {
   "cell_type": "markdown",
   "metadata": {},
   "source": [
    "## Scope of the Project"
   ]
  },
  {
   "cell_type": "markdown",
   "metadata": {},
   "source": [
    "Project Goals:\n",
    "    1. Determine whether there is a difference between average cost for men vs. women\n",
    "        - Data: gender = qualitative; cost = quantitative\n",
    "        - Analysis: \n",
    "        \n",
    "        1. Determine the total number of  men and women. Is the dataset imbalanced?\n",
    "        2. Calculate AVG medical costs grouped by gender. Is there a difference?\n",
    "        \n",
    "    2. Analyse if there is a difference between medical costs of men vs. women in respect to region?\n",
    "        - Data:  gender = qualitative; cost = quantitative; region = qualitative\n",
    "        - Analysis:\n",
    "        \n",
    "        1. Group the data from goal 1 by region. Is the gap greater in one region than the other?\n",
    "        \n",
    "    3. How does having children impact the medical costs of women?\n",
    "        - Data: no. children = qualitative; costs = qualitative\n",
    "        - Analysis:\n",
    "        \n",
    "        1. Group AVG medical costs for women by number of children."
   ]
  }
 ],
 "metadata": {
  "kernelspec": {
   "display_name": "Python 3",
   "language": "python",
   "name": "python3"
  },
  "language_info": {
   "codemirror_mode": {
    "name": "ipython",
    "version": 3
   },
   "file_extension": ".py",
   "mimetype": "text/x-python",
   "name": "python",
   "nbconvert_exporter": "python",
   "pygments_lexer": "ipython3",
   "version": "3.8.3"
  }
 },
 "nbformat": 4,
 "nbformat_minor": 4
}
